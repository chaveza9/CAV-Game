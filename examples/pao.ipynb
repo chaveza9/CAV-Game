{
 "cells": [
  {
   "cell_type": "code",
   "execution_count": 3,
   "metadata": {
    "collapsed": true
   },
   "outputs": [
    {
     "name": "stdout",
     "output_type": "stream",
     "text": [
      "4.0\n",
      "4.0\n"
     ]
    }
   ],
   "source": [
    "import pyomo.environ as pe\n",
    "from pao.pyomo import *\n",
    "\n",
    "# Create a model object\n",
    "M = pe.ConcreteModel()\n",
    "\n",
    "# Define decision variables\n",
    "M.x = pe.Var(bounds=(0,None))\n",
    "M.y = pe.Var(bounds=(0,None))\n",
    "\n",
    "# Define the upper-level objective\n",
    "M.o = pe.Objective(expr=M.x - 4*M.y)\n",
    "\n",
    "# Create a SubModel component to declare a lower-level problem\n",
    "# The variable M.x is fixed in this lower-level problem\n",
    "M.L = SubModel(fixed=M.x)\n",
    "\n",
    "# Define the lower-level objective\n",
    "M.L.o = pe.Objective(expr=M.y)\n",
    "\n",
    "# Define lower-level constraints\n",
    "M.L.c1 = pe.Constraint(expr=   -M.x -   M.y <= -3)\n",
    "M.L.c2 = pe.Constraint(expr= -2*M.x +   M.y <=  0)\n",
    "M.L.c3 = pe.Constraint(expr=  2*M.x +   M.y <= 12)\n",
    "M.L.c4 = pe.Constraint(expr=  3*M.x - 2*M.y <=  4)\n",
    "\n",
    "# Create a solver and apply it\n",
    "with Solver('pao.pyomo.FA') as solver:\n",
    "    results = solver.solve(M)\n",
    "\n",
    "# The final solution is loaded into the model\n",
    "print(M.x.value)\n",
    "\n",
    "print(M.y.value)"
   ]
  }
 ],
 "metadata": {
  "kernelspec": {
   "display_name": "Python 3",
   "language": "python",
   "name": "python3"
  },
  "language_info": {
   "codemirror_mode": {
    "name": "ipython",
    "version": 2
   },
   "file_extension": ".py",
   "mimetype": "text/x-python",
   "name": "python",
   "nbconvert_exporter": "python",
   "pygments_lexer": "ipython2",
   "version": "2.7.6"
  }
 },
 "nbformat": 4,
 "nbformat_minor": 0
}
