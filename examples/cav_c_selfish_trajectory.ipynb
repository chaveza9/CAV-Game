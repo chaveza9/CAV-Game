{
 "cells": [
  {
   "cell_type": "markdown",
   "metadata": {},
   "source": [
    "# Selfish Trajectory Optimization"
   ]
  },
  {
   "cell_type": "code",
   "execution_count": 1,
   "metadata": {},
   "outputs": [],
   "source": [
    "%load_ext autoreload\n",
    "%autoreload 2"
   ]
  },
  {
   "cell_type": "code",
   "execution_count": 4,
   "metadata": {},
   "outputs": [
    {
     "name": "stderr",
     "output_type": "stream",
     "text": [
      "/Volumes/GoogleDrive-107698562618471631668/My Drive/PhD/Research/CODES/Game-Theoretic Formulation/CAV-Game/cav_game/maneuvers/maneuver.py:118: SyntaxWarning: assertion is always true, perhaps remove parentheses?\n",
      "  assert(self.alpha_time + self.alpha_control + self.alpha_speed == 1, \"Weights must add up to 1\")\n"
     ]
    }
   ],
   "source": [
    "import os\n",
    "import sys\n",
    "import numpy as np\n",
    "sys.path.append(os.path.abspath('..'))\n",
    "from cav_game.dynamics.car import DoubleIntegratorDynamics\n",
    "from cav_game.maneuvers.selfish import SelfishManeuver"
   ]
  },
  {
   "cell_type": "markdown",
   "metadata": {},
   "source": [
    "### 1. Define Parameters"
   ]
  },
  {
   "cell_type": "code",
   "execution_count": 10,
   "metadata": {},
   "outputs": [
    {
     "ename": "TypeError",
     "evalue": "__init__() missing 1 required positional argument: 'x0'",
     "output_type": "error",
     "traceback": [
      "\u001b[0;31m---------------------------------------------------------------------------\u001b[0m",
      "\u001b[0;31mTypeError\u001b[0m                                 Traceback (most recent call last)",
      "Cell \u001b[0;32mIn [10], line 17\u001b[0m\n\u001b[1;32m     15\u001b[0m cav_model \u001b[39m=\u001b[39m DoubleIntegratorDynamics(veh_params)\n\u001b[1;32m     16\u001b[0m \u001b[39m# Construct maneuver\u001b[39;00m\n\u001b[0;32m---> 17\u001b[0m long_maneuver \u001b[39m=\u001b[39m SelfishManeuver(cav_model, x0_obst \u001b[39m=\u001b[39;49m X0, obstacle_location\u001b[39m=\u001b[39;49mobstacles, params \u001b[39m=\u001b[39;49m maneuver_params)\n",
      "\u001b[0;31mTypeError\u001b[0m: __init__() missing 1 required positional argument: 'x0'"
     ]
    }
   ],
   "source": [
    "\n",
    "# Vehicle i initial conditions\n",
    "x0 = 0       # Vehicle i initial x position [m]\n",
    "v0 = 17      # Vehicle i initial velocity [m/s]\n",
    "X0 = np.array([x0, v0])\n",
    "# Obstacle i initial conditions\n",
    "x0_obst = 14; # Obstacle i initial x position [m]\n",
    "v0_obst = 16;  # Obstacle i initial velocity [m/s]\n",
    "X0_obst = np.array([x0_obst, v0_obst])\n",
    "# Obstacle location descriptor\n",
    "obstacles = {\"front\": X0_obst}\n",
    "# Construct optimization parameters\n",
    "maneuver_params = {\"cav_type\":\"CAVC\",\"alpha_time\": 0.2, \"alpha_control\":0.1, \"alpha_speed\":0.7, \"n\":100}\n",
    "# Construct vehicle model\n",
    "veh_params = {}\n",
    "cav_model = DoubleIntegratorDynamics(veh_params)\n",
    "# Construct maneuver\n",
    "long_maneuver = SelfishManeuver(cav_model, x0 =  X0, x0_obst=obstacles, params = maneuver_params)\n"
   ]
  }
 ],
 "metadata": {
  "kernelspec": {
   "display_name": "Python 3.9.13 ('game-theory')",
   "language": "python",
   "name": "python3"
  },
  "language_info": {
   "codemirror_mode": {
    "name": "ipython",
    "version": 3
   },
   "file_extension": ".py",
   "mimetype": "text/x-python",
   "name": "python",
   "nbconvert_exporter": "python",
   "pygments_lexer": "ipython3",
   "version": "3.9.13"
  },
  "orig_nbformat": 4,
  "vscode": {
   "interpreter": {
    "hash": "103a881a3a3ebbac1e1bc07bffc361355e612cf10873e59f2fa193631391cdac"
   }
  }
 },
 "nbformat": 4,
 "nbformat_minor": 2
}
